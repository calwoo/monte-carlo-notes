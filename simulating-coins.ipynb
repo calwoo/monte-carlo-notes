{
 "cells": [
  {
   "cell_type": "code",
   "execution_count": 1,
   "metadata": {},
   "outputs": [],
   "source": [
    "import numpy as np\n",
    "import matplotlib.pyplot as plt\n",
    "%matplotlib inline"
   ]
  },
  {
   "cell_type": "markdown",
   "metadata": {},
   "source": [
    "Here are some toy simulations of probability distributions. Just for fun amusement. I will try to make sure they are all generated from sampling a uniform distribution. I just want to learn these things better."
   ]
  },
  {
   "cell_type": "code",
   "execution_count": 2,
   "metadata": {},
   "outputs": [
    {
     "data": {
      "image/png": "[encoded data removed]",
      "text/plain": [
       "<Figure size 432x288 with 1 Axes>"
      ]
     },
     "metadata": {
      "needs_background": "light"
     },
     "output_type": "display_data"
    }
   ],
   "source": [
    "# just making sure a uniform is uniform\n",
    "def uniform_dist(num_samples=1000):\n",
    "    return np.random.uniform(0,1,num_samples)\n",
    "\n",
    "samples = uniform_dist(10000)\n",
    "plt.hist(samples)\n",
    "plt.show()"
   ]
  },
  {
   "cell_type": "code",
   "execution_count": 4,
   "metadata": {},
   "outputs": [
    {
     "data": {
      "text/plain": [
       "0.6924"
      ]
     },
     "execution_count": 4,
     "metadata": {},
     "output_type": "execute_result"
    }
   ],
   "source": [
    "# simulate a fair coin using a biased coin\n",
    "def biased_coin(p):\n",
    "    prob = np.random.uniform(0,1)\n",
    "    if prob <= p:\n",
    "        return 1\n",
    "    else:\n",
    "        return 0\n",
    "    \n",
    "samples = [biased_coin(0.7) for _ in range(5000)]\n",
    "sum(samples) / len(samples)"
   ]
  },
  {
   "cell_type": "markdown",
   "metadata": {},
   "source": [
    "Okay, so we can get a biased coin. How about using a biased coin to simulate a fair coin?"
   ]
  },
  {
   "cell_type": "code",
   "execution_count": 6,
   "metadata": {},
   "outputs": [
    {
     "data": {
      "text/plain": [
       "0.5028"
      ]
     },
     "execution_count": 6,
     "metadata": {},
     "output_type": "execute_result"
    }
   ],
   "source": [
    "def fair_coin(biased_p):\n",
    "    b_coin1 = biased_coin(biased_p)\n",
    "    b_coin2 = biased_coin(biased_p)\n",
    "    if b_coin1 == b_coin2:\n",
    "        return fair_coin(biased_p)\n",
    "    else:\n",
    "        if b_coin1 == 1:\n",
    "            return 1\n",
    "        else:\n",
    "            return 0\n",
    "        \n",
    "samples = [fair_coin(0.7) for _ in range(5000)]\n",
    "sum(samples) / len(samples)"
   ]
  },
  {
   "cell_type": "markdown",
   "metadata": {},
   "source": [
    "How about the opposite? Simulating a biased coin from a fair one? Since all fair coin flips give probabilties in chunks of $1/2^n$, we can take a binary expansion of $p=0.b_1b_2b_3...$ and flip the coin until a head pops up. If the $n$th flip is a head, then we take the value of $b_n$."
   ]
  },
  {
   "cell_type": "code",
   "execution_count": 12,
   "metadata": {},
   "outputs": [],
   "source": [
    "def to_bin(p):\n",
    "    bin_p = []\n",
    "    while p > 0:\n",
    "        if p >= 0.5:\n",
    "            p = 2*p-1\n",
    "            bin_p.append(1)\n",
    "        else:\n",
    "            p = 2*p\n",
    "            bin_p.append(0)\n",
    "    return bin_p\n",
    "\n",
    "def biased_from_fair(p_bin):\n",
    "    n = len(p_bin)\n",
    "    count = 0\n",
    "    for i in range(n):\n",
    "        coin = fair_coin(0.5)\n",
    "        if coin == 1:\n",
    "            return p_bin[count]\n",
    "        else:\n",
    "            count += 1\n",
    "    return 0"
   ]
  },
  {
   "cell_type": "code",
   "execution_count": 14,
   "metadata": {},
   "outputs": [
    {
     "data": {
      "text/plain": [
       "1"
      ]
     },
     "execution_count": 14,
     "metadata": {},
     "output_type": "execute_result"
    }
   ],
   "source": [
    "p_bin = to_bin(0.75)\n",
    "biased_from_fair(p_bin)"
   ]
  },
  {
   "cell_type": "code",
   "execution_count": null,
   "metadata": {},
   "outputs": [],
   "source": [
    "samples = [biased_from_fair(p)]"
   ]
  }
 ],
 "metadata": {
  "kernelspec": {
   "display_name": "Python 3",
   "language": "python",
   "name": "python3"
  },
  "language_info": {
   "codemirror_mode": {
    "name": "ipython",
    "version": 3
   },
   "file_extension": ".py",
   "mimetype": "text/x-python",
   "name": "python",
   "nbconvert_exporter": "python",
   "pygments_lexer": "ipython3",
   "version": "3.6.7"
  }
 },
 "nbformat": 4,
 "nbformat_minor": 2
}
