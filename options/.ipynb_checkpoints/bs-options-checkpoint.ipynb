{
 "cells": [
  {
   "cell_type": "code",
   "execution_count": 1,
   "metadata": {},
   "outputs": [],
   "source": [
    "import numpy as np\n",
    "import pandas as pd"
   ]
  },
  {
   "cell_type": "markdown",
   "metadata": {},
   "source": [
    "Lets write a simple pricing function for a European call option. Assume the stocks follow a lognormal distribution. Then we can compute the price as the expectation\n",
    "    $$ e^{-rT}\\mathbb{E}^\\mathbb{P}[C(S, T)] = C(S, 0) $$ \n",
    "As a prerequisite, lets figure out the stock price $S_t$ evolution given a Brownian motion $B_t$. The stock price follows the stochastic differential equation\n",
    "    $$ dS_t = \\mu S_t dt + \\sigma S_t dB_t $$\n",
    "We can solve this by letting $X_t=\\log S_t$. By Ito's lemma, we get\n",
    "    $$ dX_t = (\\mu-\\frac{1}{2}\\sigma^2) dt + \\sigma dB_t $$\n",
    "which implies $X_t = X_0 + (\\mu-\\frac{1}{2}\\sigma^2) t + \\sigma B_t$. Hence we get that\n",
    "    $$ S_t = S_0\\exp^{(\\mu-\\frac{1}{2}\\sigma^2) t + \\sigma B_t} $$\n",
    "Noting that $B_t$ as a Wiener process has a distribution $B_t \\sim N(0,t)=\\sqrt{t}N(0,1)$, we can compute this numerically via sampling from the standard normal distribution."
   ]
  },
  {
   "cell_type": "code",
   "execution_count": 4,
   "metadata": {},
   "outputs": [],
   "source": [
    "from scipy.integrate import quad\n",
    "from scipy.stats import norm\n",
    "\n",
    "def priceEuropeanOption(S0,r,T,sigma,payoff):\n",
    "    def ST(sample):\n",
    "        return S0 * np.exp((r-0.5*sigma**2)*T + sigma*np.sqrt(T)*sample)\n",
    "    R = 10\n",
    "    def integrand(x):\n",
    "        return norm.pdf(x) * payoff(ST(x))\n",
    "    discount = np.exp(-r*T)\n",
    "    return discount * quad(integrand, -R, R)[0]"
   ]
  },
  {
   "cell_type": "code",
   "execution_count": 5,
   "metadata": {},
   "outputs": [
    {
     "data": {
      "text/plain": [
       "100.00000000000001"
      ]
     },
     "execution_count": 5,
     "metadata": {},
     "output_type": "execute_result"
    }
   ],
   "source": [
    "# sanity check\n",
    "def justStock(x):\n",
    "    return x\n",
    "priceEuropeanOption(100,0.2,4,0.3,justStock)"
   ]
  },
  {
   "cell_type": "markdown",
   "metadata": {},
   "source": [
    "A european call option has payoff given by a specific strike price $K$."
   ]
  },
  {
   "cell_type": "code",
   "execution_count": 6,
   "metadata": {},
   "outputs": [
    {
     "data": {
      "text/plain": [
       "30.761890184007925"
      ]
     },
     "execution_count": 6,
     "metadata": {},
     "output_type": "execute_result"
    }
   ],
   "source": [
    "K = 90\n",
    "def payoff(x):\n",
    "    return np.max([x-K, 0])\n",
    "priceEuropeanOption(100,0.05,2,0.4,payoff)"
   ]
  },
  {
   "cell_type": "code",
   "execution_count": null,
   "metadata": {},
   "outputs": [],
   "source": []
  }
 ],
 "metadata": {
  "kernelspec": {
   "display_name": "Python 3",
   "language": "python",
   "name": "python3"
  },
  "language_info": {
   "codemirror_mode": {
    "name": "ipython",
    "version": 3
   },
   "file_extension": ".py",
   "mimetype": "text/x-python",
   "name": "python",
   "nbconvert_exporter": "python",
   "pygments_lexer": "ipython3",
   "version": "3.6.7"
  }
 },
 "nbformat": 4,
 "nbformat_minor": 2
}
