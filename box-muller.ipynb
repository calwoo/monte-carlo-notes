{
 "cells": [
  {
   "cell_type": "code",
   "execution_count": 1,
   "metadata": {},
   "outputs": [],
   "source": [
    "import numpy as np\n",
    "from scipy.stats import norm\n",
    "import matplotlib.pyplot as plt\n",
    "import seaborn as sns\n",
    "%matplotlib inline"
   ]
  },
  {
   "cell_type": "markdown",
   "metadata": {},
   "source": [
    "### Box-Muller method\n",
    "\n",
    "The Box-Muller method is a famous way to sample gaussian values from a uniform. Even cooler, it simulates *pairs* of standard normal variables from *pairs* of uniforms."
   ]
  },
  {
   "cell_type": "markdown",
   "metadata": {},
   "source": [
    "The core of the Box-Muller method is a probabilistic interpretation of the standard trick every mathematician learns when they are young for computing the famous integral\n",
    "\n",
    "$$ I=\\int_{-\\infty}^\\infty{e^{-x^2}dx} $$\n",
    "\n",
    "This is incalculable, but when we square it, magically by using polar coordinates we can compute it.\n",
    "\n",
    "Suppose $X,Y$ is a pair of independent standard normals $N(0,1)$. Then the probability density function of the pair $(X,Y)$ (**Note:** this is **not** the product!) is the product of the pdfs:\n",
    "\n",
    "$$ p(x,y) = \\frac{1}{2\\pi}e^{-(x^2+y^2)/2} $$"
   ]
  },
  {
   "cell_type": "markdown",
   "metadata": {},
   "source": [
    "The trick now is to use polar coordinates\n",
    "\n",
    "$$ X = R\\cos{\\theta}\\text{  and  } Y=R\\sin{\\theta} $$\n",
    "\n",
    "Here we know that $\\theta$ is uniformly distributed on $[0,2\\pi]$, so could be modeled using $z\\sim\\text{uniform}(0,1)$ as $\\theta=2\\pi z$.\n",
    "\n",
    "To sample $R$, we write down the cdf in terms of $R$:\n",
    "\n",
    "$$ G(r)=P(R\\le r) = \\int_0^r\\int_0^{2\\pi}{\\frac{1}{2\\pi}e^{-s^2/2}s ds d\\theta} = \\int_0^r{se^{-s^2/2} ds} $$\n",
    "\n",
    "But this is completely integrable to get\n",
    "\n",
    "$$ G(r) = 1-e^{-r^2/2} $$\n",
    "\n",
    "So we can sample from $G(R)=1-e^{-R^2/2}=1-U$ where $U=\\text{uniform}(0,1)$, ie, where\n",
    "\n",
    "$$ R = \\sqrt{-2\\ln{U}} $$"
   ]
  },
  {
   "cell_type": "code",
   "execution_count": null,
   "metadata": {},
   "outputs": [],
   "source": [
    "def box_muller(num_samples=1000):\n",
    "    pass"
   ]
  }
 ],
 "metadata": {
  "kernelspec": {
   "display_name": "Python 3",
   "language": "python",
   "name": "python3"
  },
  "language_info": {
   "codemirror_mode": {
    "name": "ipython",
    "version": 3
   },
   "file_extension": ".py",
   "mimetype": "text/x-python",
   "name": "python",
   "nbconvert_exporter": "python",
   "pygments_lexer": "ipython3",
   "version": "3.6.7"
  }
 },
 "nbformat": 4,
 "nbformat_minor": 2
}
