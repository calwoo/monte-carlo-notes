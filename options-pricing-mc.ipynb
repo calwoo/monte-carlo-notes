{
 "cells": [
  {
   "cell_type": "code",
   "execution_count": 1,
   "metadata": {},
   "outputs": [],
   "source": [
    "import numpy as np\n",
    "from scipy.stats import norm"
   ]
  },
  {
   "cell_type": "markdown",
   "metadata": {},
   "source": [
    "The Black-Scholes formula for computing the price of a European option can be unwieldy. Recall, for a euro call option with strike price $K$ and expiry at time $T$, the BS formula is given by\n",
    "\n",
    "$$ C = S_0\\Phi(d_{+})-e^{-rT}K\\Phi(d_{-}) $$\n",
    "\n",
    "where\n",
    "\n",
    "$$ d_{\\pm} = \\frac{1}{\\sigma\\sqrt{T}}\\log{\\left(\\frac{S_0}{e^{-rT}K}\\right)} \\pm \\frac{1}{2}\\sigma\\sqrt{T}$$\n",
    "\n",
    "and $\\Phi$ is the cdf of the standard normal $N(0,1)$."
   ]
  },
  {
   "cell_type": "code",
   "execution_count": 2,
   "metadata": {},
   "outputs": [
    {
     "data": {
      "text/plain": [
       "30.761890179053708"
      ]
     },
     "execution_count": 2,
     "metadata": {},
     "output_type": "execute_result"
    }
   ],
   "source": [
    "def BS_euro_call(S0,K,r,T,sigma):\n",
    "    \"\"\"\n",
    "    Pricing euro call option using Black-Scholes formula.\n",
    "    INPUT\n",
    "        S0, K, r, T, sigma = standard\n",
    "    OUTPUT\n",
    "        C = price\n",
    "    \"\"\"\n",
    "    discount_strike = K * np.exp(-r*T)\n",
    "    time_vol = sigma * np.sqrt(T)\n",
    "    term1 = 1.0 / time_vol * np.log(S0 / discount_strike)\n",
    "    term2 = 0.5 * time_vol\n",
    "    \n",
    "    d_plus = term1 + term2\n",
    "    d_minus = term1 - term2\n",
    "    \n",
    "    C = S0 * norm.cdf(d_plus) - discount_strike * norm.cdf(d_minus)\n",
    "    return C\n",
    "\n",
    "BS_euro_call(100, 90, 0.05, 2, 0.4)"
   ]
  },
  {
   "cell_type": "markdown",
   "metadata": {},
   "source": [
    "Now we'll implement pricing using Monte-Carlo. Note we are just computing $e^{-rT}\\mathbb{E}[\\text{payoff}]$, which we can because we know how $S_t$ evolves."
   ]
  },
  {
   "cell_type": "code",
   "execution_count": 6,
   "metadata": {},
   "outputs": [
    {
     "data": {
      "text/plain": [
       "(30.606163743479307, 0.16398179861950893)"
      ]
     },
     "execution_count": 6,
     "metadata": {},
     "output_type": "execute_result"
    }
   ],
   "source": [
    "def BS_euro_call_MC(S0,K,r,T,sigma,num_sims):\n",
    "    \"\"\"\n",
    "    Pricing euro call option using Monte-Carlo methods.\n",
    "    INPUT\n",
    "        S0, K, r, T, sigma = standard\n",
    "        num_sims = number of simulated paths\n",
    "    OUTPUT\n",
    "        price = price\n",
    "        var = variance of prices\n",
    "    \"\"\"\n",
    "    X = np.random.randn(num_sims)\n",
    "    ST = S0 * np.exp((r - 0.5 * sigma**2) * T + sigma * np.sqrt(T) * X)\n",
    "    # get payoff\n",
    "    payoff = np.where(ST < K, 0, ST - K) # np.where(cond, then, else)\n",
    "    price = np.exp(-r*T) * np.mean(payoff)\n",
    "    var = np.exp(-r*T) * np.std(payoff) / np.sqrt(num_sims)\n",
    "    return price, var\n",
    "\n",
    "BS_euro_call_MC(100, 90, 0.05, 2, 0.4, 100000)"
   ]
  },
  {
   "cell_type": "code",
   "execution_count": null,
   "metadata": {},
   "outputs": [],
   "source": []
  }
 ],
 "metadata": {
  "kernelspec": {
   "display_name": "Python 3",
   "language": "python",
   "name": "python3"
  },
  "language_info": {
   "codemirror_mode": {
    "name": "ipython",
    "version": 3
   },
   "file_extension": ".py",
   "mimetype": "text/x-python",
   "name": "python",
   "nbconvert_exporter": "python",
   "pygments_lexer": "ipython3",
   "version": "3.6.7"
  }
 },
 "nbformat": 4,
 "nbformat_minor": 2
}
